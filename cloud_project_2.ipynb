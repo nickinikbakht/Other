{
  "cells": [
    {
      "cell_type": "code",
      "execution_count": null,
      "metadata": {
        "colab": {},
        "colab_type": "code",
        "id": "Kj1wR9znFDvs"
      },
      "outputs": [],
      "source": [
        "!apt-get install openjdk-8-jdk-headless -qq > /dev/null\n",
        "!wget -q http://apache.mirror.cdnetworks.com/spark/spark-3.0.0/spark-3.0.0-bin-hadoop3.2.tgz\n",
        "!tar xf spark-3.0.0-bin-hadoop3.2.tgz\n",
        "!pip install -q findspark\n",
        "\n",
        "\n",
        "import os\n",
        "os.environ[\"JAVA_HOME\"] = \"/usr/lib/jvm/java-8-openjdk-amd64\"\n",
        "os.environ[\"SPARK_HOME\"] = \"/content/spark-3.0.0-bin-hadoop3.2\""
      ]
    },
    {
      "cell_type": "code",
      "execution_count": null,
      "metadata": {
        "colab": {
          "base_uri": "https://localhost:8080/",
          "height": 904
        },
        "colab_type": "code",
        "id": "QwVp80kMynXP",
        "outputId": "71e017ab-ae09-4ef8-a191-4f50ac91afc6"
      },
      "outputs": [
        {
          "name": "stdout",
          "output_type": "stream",
          "text": [
            "Collecting pyspark\n",
            "\u001b[?25l  Downloading https://files.pythonhosted.org/packages/8e/b0/bf9020b56492281b9c9d8aae8f44ff51e1bc91b3ef5a884385cb4e389a40/pyspark-3.0.0.tar.gz (204.7MB)\n",
            "\u001b[K     |████████████████████████████████| 204.7MB 63kB/s \n",
            "\u001b[?25hCollecting py4j==0.10.9\n",
            "\u001b[?25l  Downloading https://files.pythonhosted.org/packages/9e/b6/6a4fb90cd235dc8e265a6a2067f2a2c99f0d91787f06aca4bcf7c23f3f80/py4j-0.10.9-py2.py3-none-any.whl (198kB)\n",
            "\u001b[K     |████████████████████████████████| 204kB 44.3MB/s \n",
            "\u001b[?25hBuilding wheels for collected packages: pyspark\n",
            "  Building wheel for pyspark (setup.py) ... \u001b[?25l\u001b[?25hdone\n",
            "  Created wheel for pyspark: filename=pyspark-3.0.0-py2.py3-none-any.whl size=205044182 sha256=4502ca30b2ba0726674ee091cc3adf6c6f0e95f6ee5f457b3978e8e90ecf1ed0\n",
            "  Stored in directory: /root/.cache/pip/wheels/57/27/4d/ddacf7143f8d5b76c45c61ee2e43d9f8492fc5a8e78ebd7d37\n",
            "Successfully built pyspark\n",
            "Installing collected packages: py4j, pyspark\n",
            "Successfully installed py4j-0.10.9 pyspark-3.0.0\n",
            "The following package was automatically installed and is no longer required:\n",
            "  libnvidia-common-440\n",
            "Use 'apt autoremove' to remove it.\n",
            "The following additional packages will be installed:\n",
            "  openjdk-8-jre-headless\n",
            "Suggested packages:\n",
            "  openjdk-8-demo openjdk-8-source libnss-mdns fonts-dejavu-extra\n",
            "  fonts-ipafont-gothic fonts-ipafont-mincho fonts-wqy-microhei\n",
            "  fonts-wqy-zenhei fonts-indic\n",
            "The following NEW packages will be installed:\n",
            "  openjdk-8-jdk-headless openjdk-8-jre-headless\n",
            "0 upgraded, 2 newly installed, 0 to remove and 35 not upgraded.\n",
            "Need to get 35.8 MB of archives.\n",
            "After this operation, 140 MB of additional disk space will be used.\n",
            "Selecting previously unselected package openjdk-8-jre-headless:amd64.\n",
            "(Reading database ... 144465 files and directories currently installed.)\n",
            "Preparing to unpack .../openjdk-8-jre-headless_8u252-b09-1~18.04_amd64.deb ...\n",
            "Unpacking openjdk-8-jre-headless:amd64 (8u252-b09-1~18.04) ...\n",
            "Selecting previously unselected package openjdk-8-jdk-headless:amd64.\n",
            "Preparing to unpack .../openjdk-8-jdk-headless_8u252-b09-1~18.04_amd64.deb ...\n",
            "Unpacking openjdk-8-jdk-headless:amd64 (8u252-b09-1~18.04) ...\n",
            "Setting up openjdk-8-jre-headless:amd64 (8u252-b09-1~18.04) ...\n",
            "update-alternatives: using /usr/lib/jvm/java-8-openjdk-amd64/jre/bin/orbd to provide /usr/bin/orbd (orbd) in auto mode\n",
            "update-alternatives: using /usr/lib/jvm/java-8-openjdk-amd64/jre/bin/servertool to provide /usr/bin/servertool (servertool) in auto mode\n",
            "update-alternatives: using /usr/lib/jvm/java-8-openjdk-amd64/jre/bin/tnameserv to provide /usr/bin/tnameserv (tnameserv) in auto mode\n",
            "Setting up openjdk-8-jdk-headless:amd64 (8u252-b09-1~18.04) ...\n",
            "update-alternatives: using /usr/lib/jvm/java-8-openjdk-amd64/bin/idlj to provide /usr/bin/idlj (idlj) in auto mode\n",
            "update-alternatives: using /usr/lib/jvm/java-8-openjdk-amd64/bin/wsimport to provide /usr/bin/wsimport (wsimport) in auto mode\n",
            "update-alternatives: using /usr/lib/jvm/java-8-openjdk-amd64/bin/jsadebugd to provide /usr/bin/jsadebugd (jsadebugd) in auto mode\n",
            "update-alternatives: using /usr/lib/jvm/java-8-openjdk-amd64/bin/native2ascii to provide /usr/bin/native2ascii (native2ascii) in auto mode\n",
            "update-alternatives: using /usr/lib/jvm/java-8-openjdk-amd64/bin/javah to provide /usr/bin/javah (javah) in auto mode\n",
            "update-alternatives: using /usr/lib/jvm/java-8-openjdk-amd64/bin/clhsdb to provide /usr/bin/clhsdb (clhsdb) in auto mode\n",
            "update-alternatives: using /usr/lib/jvm/java-8-openjdk-amd64/bin/extcheck to provide /usr/bin/extcheck (extcheck) in auto mode\n",
            "update-alternatives: using /usr/lib/jvm/java-8-openjdk-amd64/bin/hsdb to provide /usr/bin/hsdb (hsdb) in auto mode\n",
            "update-alternatives: using /usr/lib/jvm/java-8-openjdk-amd64/bin/schemagen to provide /usr/bin/schemagen (schemagen) in auto mode\n",
            "update-alternatives: using /usr/lib/jvm/java-8-openjdk-amd64/bin/xjc to provide /usr/bin/xjc (xjc) in auto mode\n",
            "update-alternatives: using /usr/lib/jvm/java-8-openjdk-amd64/bin/jhat to provide /usr/bin/jhat (jhat) in auto mode\n",
            "update-alternatives: using /usr/lib/jvm/java-8-openjdk-amd64/bin/wsgen to provide /usr/bin/wsgen (wsgen) in auto mode\n"
          ]
        }
      ],
      "source": [
        "!pip install pyspark\n",
        "!pip install -U -q PyDrive\n",
        "!apt install openjdk-8-jdk-headless -qq\n",
        "import os\n",
        "os.environ[\"JAVA_HOME\"] = \"/usr/lib/jvm/java-8-openjdk-amd64\""
      ]
    },
    {
      "cell_type": "code",
      "execution_count": null,
      "metadata": {
        "colab": {},
        "colab_type": "code",
        "id": "YmQo0dOkyz5w"
      },
      "outputs": [],
      "source": [
        "import pandas as pd\n",
        "import numpy as np\n",
        "import matplotlib.pyplot as plt\n",
        "%matplotlib inline\n",
        "\n",
        "import pyspark\n",
        "from pyspark.sql import *\n",
        "from pyspark.sql.types import *\n",
        "from pyspark.sql.functions import *\n",
        "from pyspark import SparkContext, SparkConf"
      ]
    },
    {
      "cell_type": "code",
      "execution_count": null,
      "metadata": {
        "colab": {},
        "colab_type": "code",
        "id": "pDvBH_E8y-Sj"
      },
      "outputs": [],
      "source": [
        "# create the session\n",
        "conf = SparkConf().set(\"spark.ui.port\", \"4050\")\n",
        "\n",
        "# create the context\n",
        "sc = pyspark.SparkContext(conf=conf)\n",
        "spark = SparkSession.builder.getOrCreate()"
      ]
    },
    {
      "cell_type": "code",
      "execution_count": null,
      "metadata": {
        "colab": {
          "base_uri": "https://localhost:8080/",
          "height": 216
        },
        "colab_type": "code",
        "id": "ssMSI4pTzDr4",
        "outputId": "3005968b-b3fd-4c51-e362-20aa7a214402"
      },
      "outputs": [
        {
          "data": {
            "text/html": [
              "\n",
              "            <div>\n",
              "                <p><b>SparkSession - in-memory</b></p>\n",
              "                \n",
              "        <div>\n",
              "            <p><b>SparkContext</b></p>\n",
              "\n",
              "            <p><a href=\"http://39f13c3fd21c:4050\">Spark UI</a></p>\n",
              "\n",
              "            <dl>\n",
              "              <dt>Version</dt>\n",
              "                <dd><code>v3.0.0</code></dd>\n",
              "              <dt>Master</dt>\n",
              "                <dd><code>local[*]</code></dd>\n",
              "              <dt>AppName</dt>\n",
              "                <dd><code>pyspark-shell</code></dd>\n",
              "            </dl>\n",
              "        </div>\n",
              "        \n",
              "            </div>\n",
              "        "
            ],
            "text/plain": [
              "<pyspark.sql.session.SparkSession at 0x7fb2e254fd30>"
            ]
          },
          "execution_count": 4,
          "metadata": {
            "tags": []
          },
          "output_type": "execute_result"
        }
      ],
      "source": [
        "spark"
      ]
    },
    {
      "cell_type": "code",
      "execution_count": null,
      "metadata": {
        "colab": {
          "base_uri": "https://localhost:8080/",
          "height": 255
        },
        "colab_type": "code",
        "id": "L3O1f_H2zWfA",
        "outputId": "f8ee5248-0e46-489b-84d4-7a22521b55f5"
      },
      "outputs": [
        {
          "name": "stdout",
          "output_type": "stream",
          "text": [
            "--2020-07-31 06:40:09--  https://bin.equinox.io/c/4VmDzA7iaHb/ngrok-stable-linux-amd64.zip\n",
            "Resolving bin.equinox.io (bin.equinox.io)... 3.230.235.205, 34.205.198.58, 34.235.94.90, ...\n",
            "Connecting to bin.equinox.io (bin.equinox.io)|3.230.235.205|:443... connected.\n",
            "HTTP request sent, awaiting response... 200 OK\n",
            "Length: 13773305 (13M) [application/octet-stream]\n",
            "Saving to: ‘ngrok-stable-linux-amd64.zip’\n",
            "\n",
            "\r          ngrok-sta   0%[                    ]       0  --.-KB/s               \rngrok-stable-linux- 100%[===================>]  13.13M  72.6MB/s    in 0.2s    \n",
            "\n",
            "2020-07-31 06:40:10 (72.6 MB/s) - ‘ngrok-stable-linux-amd64.zip’ saved [13773305/13773305]\n",
            "\n",
            "Archive:  ngrok-stable-linux-amd64.zip\n",
            "  inflating: ngrok                   \n",
            "https://dea4c21d8845.ngrok.io\n"
          ]
        }
      ],
      "source": [
        "!wget https://bin.equinox.io/c/4VmDzA7iaHb/ngrok-stable-linux-amd64.zip\n",
        "!unzip ngrok-stable-linux-amd64.zip\n",
        "get_ipython().system_raw('./ngrok http 4050 &')\n",
        "!curl -s http://localhost:4040/api/tunnels | python3 -c \\\n",
        "    \"import sys, json; print(json.load(sys.stdin)['tunnels'][0]['public_url'])\""
      ]
    },
    {
      "cell_type": "code",
      "execution_count": null,
      "metadata": {
        "colab": {},
        "colab_type": "code",
        "id": "tMPjW0Af1piC"
      },
      "outputs": [],
      "source": [
        "df = spark.read.csv('cruise_ship_info.csv',inferSchema=True,header=True)\n"
      ]
    },
    {
      "cell_type": "code",
      "execution_count": null,
      "metadata": {
        "colab": {
          "base_uri": "https://localhost:8080/",
          "height": 459
        },
        "colab_type": "code",
        "id": "NcVoGe6G2AMF",
        "outputId": "0d1da9c8-5342-44c8-a794-dfaf3eb5c902"
      },
      "outputs": [
        {
          "name": "stdout",
          "output_type": "stream",
          "text": [
            "+-----------+-----------+---+------------------+----------+------+------+-----------------+----+\n",
            "|  Ship_name|Cruise_line|Age|           Tonnage|passengers|length|cabins|passenger_density|crew|\n",
            "+-----------+-----------+---+------------------+----------+------+------+-----------------+----+\n",
            "|    Journey|    Azamara|  6|30.276999999999997|      6.94|  5.94|  3.55|            42.64|3.55|\n",
            "|      Quest|    Azamara|  6|30.276999999999997|      6.94|  5.94|  3.55|            42.64|3.55|\n",
            "|Celebration|   Carnival| 26|            47.262|     14.86|  7.22|  7.43|             31.8| 6.7|\n",
            "|   Conquest|   Carnival| 11|             110.0|     29.74|  9.53| 14.88|            36.99|19.1|\n",
            "|    Destiny|   Carnival| 17|           101.353|     26.42|  8.92| 13.21|            38.36|10.0|\n",
            "|    Ecstasy|   Carnival| 22|            70.367|     20.52|  8.55|  10.2|            34.29| 9.2|\n",
            "|    Elation|   Carnival| 15|            70.367|     20.52|  8.55|  10.2|            34.29| 9.2|\n",
            "|    Fantasy|   Carnival| 23|            70.367|     20.56|  8.55| 10.22|            34.23| 9.2|\n",
            "|Fascination|   Carnival| 19|            70.367|     20.52|  8.55|  10.2|            34.29| 9.2|\n",
            "|    Freedom|   Carnival|  6|110.23899999999999|      37.0|  9.51| 14.87|            29.79|11.5|\n",
            "|      Glory|   Carnival| 10|             110.0|     29.74|  9.51| 14.87|            36.99|11.6|\n",
            "|    Holiday|   Carnival| 28|            46.052|     14.52|  7.27|  7.26|            31.72| 6.6|\n",
            "|Imagination|   Carnival| 18|            70.367|     20.52|  8.55|  10.2|            34.29| 9.2|\n",
            "|Inspiration|   Carnival| 17|            70.367|     20.52|  8.55|  10.2|            34.29| 9.2|\n",
            "|     Legend|   Carnival| 11|              86.0|     21.24|  9.63| 10.62|            40.49| 9.3|\n",
            "|   Liberty*|   Carnival|  8|             110.0|     29.74|  9.51| 14.87|            36.99|11.6|\n",
            "|    Miracle|   Carnival|  9|              88.5|     21.24|  9.63| 10.62|            41.67|10.3|\n",
            "|   Paradise|   Carnival| 15|            70.367|     20.52|  8.55|  10.2|            34.29| 9.2|\n",
            "|      Pride|   Carnival| 12|              88.5|     21.24|  9.63| 11.62|            41.67| 9.3|\n",
            "|  Sensation|   Carnival| 20|            70.367|     20.52|  8.55|  10.2|            34.29| 9.2|\n",
            "+-----------+-----------+---+------------------+----------+------+------+-----------------+----+\n",
            "only showing top 20 rows\n",
            "\n"
          ]
        }
      ],
      "source": [
        "df.show()\n"
      ]
    },
    {
      "cell_type": "code",
      "execution_count": null,
      "metadata": {
        "colab": {
          "base_uri": "https://localhost:8080/",
          "height": 207
        },
        "colab_type": "code",
        "id": "QC7uxr1d4cRr",
        "outputId": "aaf22ea5-b80b-4cb0-cc28-2674034422ab"
      },
      "outputs": [
        {
          "name": "stdout",
          "output_type": "stream",
          "text": [
            "+-------+---------+-----------+------------------+------------------+-----------------+-----------------+------------------+-----------------+-----------------+\n",
            "|summary|Ship_name|Cruise_line|               Age|           Tonnage|       passengers|           length|            cabins|passenger_density|             crew|\n",
            "+-------+---------+-----------+------------------+------------------+-----------------+-----------------+------------------+-----------------+-----------------+\n",
            "|  count|      158|        158|               158|               158|              158|              158|               158|              158|              158|\n",
            "|   mean| Infinity|       null|15.689873417721518| 71.28467088607599|18.45740506329114|8.130632911392404| 8.830000000000005|39.90094936708861|7.794177215189873|\n",
            "| stddev|      NaN|       null| 7.615691058751413|37.229540025907866|9.677094775143416|1.793473548054825|4.4714172221480615| 8.63921711391542|3.503486564627034|\n",
            "|    min|Adventure|    Azamara|                 4|             2.329|             0.66|             2.79|              0.33|             17.7|             0.59|\n",
            "|    max|Zuiderdam|   Windstar|                48|             220.0|             54.0|            11.82|              27.0|            71.43|             21.0|\n",
            "+-------+---------+-----------+------------------+------------------+-----------------+-----------------+------------------+-----------------+-----------------+\n",
            "\n"
          ]
        }
      ],
      "source": [
        "df.describe().show()\n"
      ]
    },
    {
      "cell_type": "code",
      "execution_count": null,
      "metadata": {
        "colab": {
          "base_uri": "https://localhost:8080/",
          "height": 359
        },
        "colab_type": "code",
        "id": "xslKzY9u4nCu",
        "outputId": "ce1225a5-2fc9-4a41-c8fc-9dac25e73385"
      },
      "outputs": [
        {
          "data": {
            "text/html": [
              "<div>\n",
              "<style scoped>\n",
              "    .dataframe tbody tr th:only-of-type {\n",
              "        vertical-align: middle;\n",
              "    }\n",
              "\n",
              "    .dataframe tbody tr th {\n",
              "        vertical-align: top;\n",
              "    }\n",
              "\n",
              "    .dataframe thead th {\n",
              "        text-align: right;\n",
              "    }\n",
              "</style>\n",
              "<table border=\"1\" class=\"dataframe\">\n",
              "  <thead>\n",
              "    <tr style=\"text-align: right;\">\n",
              "      <th></th>\n",
              "      <th>0</th>\n",
              "      <th>1</th>\n",
              "      <th>2</th>\n",
              "      <th>3</th>\n",
              "      <th>4</th>\n",
              "    </tr>\n",
              "  </thead>\n",
              "  <tbody>\n",
              "    <tr>\n",
              "      <th>summary</th>\n",
              "      <td>count</td>\n",
              "      <td>mean</td>\n",
              "      <td>stddev</td>\n",
              "      <td>min</td>\n",
              "      <td>max</td>\n",
              "    </tr>\n",
              "    <tr>\n",
              "      <th>Ship_name</th>\n",
              "      <td>158</td>\n",
              "      <td>Infinity</td>\n",
              "      <td>NaN</td>\n",
              "      <td>Adventure</td>\n",
              "      <td>Zuiderdam</td>\n",
              "    </tr>\n",
              "    <tr>\n",
              "      <th>Cruise_line</th>\n",
              "      <td>158</td>\n",
              "      <td>None</td>\n",
              "      <td>None</td>\n",
              "      <td>Azamara</td>\n",
              "      <td>Windstar</td>\n",
              "    </tr>\n",
              "    <tr>\n",
              "      <th>Age</th>\n",
              "      <td>158</td>\n",
              "      <td>15.689873417721518</td>\n",
              "      <td>7.615691058751413</td>\n",
              "      <td>4</td>\n",
              "      <td>48</td>\n",
              "    </tr>\n",
              "    <tr>\n",
              "      <th>Tonnage</th>\n",
              "      <td>158</td>\n",
              "      <td>71.28467088607599</td>\n",
              "      <td>37.229540025907866</td>\n",
              "      <td>2.329</td>\n",
              "      <td>220.0</td>\n",
              "    </tr>\n",
              "    <tr>\n",
              "      <th>passengers</th>\n",
              "      <td>158</td>\n",
              "      <td>18.45740506329114</td>\n",
              "      <td>9.677094775143416</td>\n",
              "      <td>0.66</td>\n",
              "      <td>54.0</td>\n",
              "    </tr>\n",
              "    <tr>\n",
              "      <th>length</th>\n",
              "      <td>158</td>\n",
              "      <td>8.130632911392404</td>\n",
              "      <td>1.793473548054825</td>\n",
              "      <td>2.79</td>\n",
              "      <td>11.82</td>\n",
              "    </tr>\n",
              "    <tr>\n",
              "      <th>cabins</th>\n",
              "      <td>158</td>\n",
              "      <td>8.830000000000005</td>\n",
              "      <td>4.4714172221480615</td>\n",
              "      <td>0.33</td>\n",
              "      <td>27.0</td>\n",
              "    </tr>\n",
              "    <tr>\n",
              "      <th>passenger_density</th>\n",
              "      <td>158</td>\n",
              "      <td>39.90094936708861</td>\n",
              "      <td>8.63921711391542</td>\n",
              "      <td>17.7</td>\n",
              "      <td>71.43</td>\n",
              "    </tr>\n",
              "    <tr>\n",
              "      <th>crew</th>\n",
              "      <td>158</td>\n",
              "      <td>7.794177215189873</td>\n",
              "      <td>3.503486564627034</td>\n",
              "      <td>0.59</td>\n",
              "      <td>21.0</td>\n",
              "    </tr>\n",
              "  </tbody>\n",
              "</table>\n",
              "</div>"
            ],
            "text/plain": [
              "                       0                   1  ...          3          4\n",
              "summary            count                mean  ...        min        max\n",
              "Ship_name            158            Infinity  ...  Adventure  Zuiderdam\n",
              "Cruise_line          158                None  ...    Azamara   Windstar\n",
              "Age                  158  15.689873417721518  ...          4         48\n",
              "Tonnage              158   71.28467088607599  ...      2.329      220.0\n",
              "passengers           158   18.45740506329114  ...       0.66       54.0\n",
              "length               158   8.130632911392404  ...       2.79      11.82\n",
              "cabins               158   8.830000000000005  ...       0.33       27.0\n",
              "passenger_density    158   39.90094936708861  ...       17.7      71.43\n",
              "crew                 158   7.794177215189873  ...       0.59       21.0\n",
              "\n",
              "[10 rows x 5 columns]"
            ]
          },
          "execution_count": 9,
          "metadata": {
            "tags": []
          },
          "output_type": "execute_result"
        }
      ],
      "source": [
        "df.describe().toPandas().transpose()\n"
      ]
    },
    {
      "cell_type": "code",
      "execution_count": null,
      "metadata": {
        "colab": {
          "base_uri": "https://localhost:8080/",
          "height": 672
        },
        "colab_type": "code",
        "id": "gHcSf9V_4mLz",
        "outputId": "3ca56d37-792d-48e1-ee59-70135c10f914"
      },
      "outputs": [
        {
          "data": {
            "image/png": "[encoded data removed]",
            "text/plain": [
              "<Figure size 720x720 with 49 Axes>"
            ]
          },
          "metadata": {
            "needs_background": "light",
            "tags": []
          },
          "output_type": "display_data"
        }
      ],
      "source": [
        "import pandas as pd\n",
        "from pandas.plotting import scatter_matrix\n",
        "numeric_features = [t[0] for t in df.dtypes if t[1] == 'int' or t[1] == 'double']\n",
        "sampled_data = df.select(numeric_features).sample(False, 0.8).toPandas()\n",
        "axs = scatter_matrix(sampled_data, figsize=(10, 10))\n",
        "n = len(sampled_data.columns)\n",
        "for i in range(n):\n",
        "    v = axs[i, 0]\n",
        "    v.yaxis.label.set_rotation(0)\n",
        "    v.yaxis.label.set_ha('right')\n",
        "    v.set_yticks(())\n",
        "    h = axs[n-1, i]\n",
        "    h.xaxis.label.set_rotation(90)\n",
        "    h.set_xticks(())"
      ]
    },
    {
      "cell_type": "code",
      "execution_count": null,
      "metadata": {
        "colab": {
          "base_uri": "https://localhost:8080/",
          "height": 442
        },
        "colab_type": "code",
        "id": "kLZPlL5E5XI5",
        "outputId": "04217675-407f-4039-8d45-81c1b0697847"
      },
      "outputs": [
        {
          "name": "stdout",
          "output_type": "stream",
          "text": [
            "+-----------------+-----+\n",
            "|      Cruise_line|count|\n",
            "+-----------------+-----+\n",
            "|            Costa|   11|\n",
            "|              P&O|    6|\n",
            "|           Cunard|    3|\n",
            "|Regent_Seven_Seas|    5|\n",
            "|              MSC|    8|\n",
            "|         Carnival|   22|\n",
            "|          Crystal|    2|\n",
            "|           Orient|    1|\n",
            "|         Princess|   17|\n",
            "|        Silversea|    4|\n",
            "|         Seabourn|    3|\n",
            "| Holland_American|   14|\n",
            "|         Windstar|    3|\n",
            "|           Disney|    2|\n",
            "|        Norwegian|   13|\n",
            "|          Oceania|    3|\n",
            "|          Azamara|    2|\n",
            "|        Celebrity|   10|\n",
            "|             Star|    6|\n",
            "|  Royal_Caribbean|   23|\n",
            "+-----------------+-----+\n",
            "\n"
          ]
        }
      ],
      "source": [
        "df.groupBy('Cruise_line').count().show()\n"
      ]
    },
    {
      "cell_type": "code",
      "execution_count": null,
      "metadata": {
        "colab": {
          "base_uri": "https://localhost:8080/",
          "height": 122
        },
        "colab_type": "code",
        "id": "BihyQOuF5dVm",
        "outputId": "a3ae6e15-a9aa-42f4-ad58-a3df87c088f0"
      },
      "outputs": [
        {
          "data": {
            "text/plain": [
              "[Row(Ship_name='Journey', Cruise_line='Azamara', Age=6, Tonnage=30.276999999999997, passengers=6.94, length=5.94, cabins=3.55, passenger_density=42.64, crew=3.55, cruise_cat=16.0),\n",
              " Row(Ship_name='Quest', Cruise_line='Azamara', Age=6, Tonnage=30.276999999999997, passengers=6.94, length=5.94, cabins=3.55, passenger_density=42.64, crew=3.55, cruise_cat=16.0),\n",
              " Row(Ship_name='Celebration', Cruise_line='Carnival', Age=26, Tonnage=47.262, passengers=14.86, length=7.22, cabins=7.43, passenger_density=31.8, crew=6.7, cruise_cat=1.0),\n",
              " Row(Ship_name='Conquest', Cruise_line='Carnival', Age=11, Tonnage=110.0, passengers=29.74, length=9.53, cabins=14.88, passenger_density=36.99, crew=19.1, cruise_cat=1.0),\n",
              " Row(Ship_name='Destiny', Cruise_line='Carnival', Age=17, Tonnage=101.353, passengers=26.42, length=8.92, cabins=13.21, passenger_density=38.36, crew=10.0, cruise_cat=1.0)]"
            ]
          },
          "execution_count": 12,
          "metadata": {
            "tags": []
          },
          "output_type": "execute_result"
        }
      ],
      "source": [
        "from pyspark.ml.feature import StringIndexer\n",
        "indexer = StringIndexer(inputCol=\"Cruise_line\", outputCol=\"cruise_cat\")\n",
        "indexed = indexer.fit(df).transform(df)\n",
        "indexed.head(5)"
      ]
    },
    {
      "cell_type": "code",
      "execution_count": null,
      "metadata": {
        "colab": {},
        "colab_type": "code",
        "id": "wKUK00-G5hAo"
      },
      "outputs": [],
      "source": [
        "from pyspark.ml.linalg import Vectors\n",
        "from pyspark.ml.feature import VectorAssembler"
      ]
    },
    {
      "cell_type": "code",
      "execution_count": null,
      "metadata": {
        "colab": {
          "base_uri": "https://localhost:8080/",
          "height": 187
        },
        "colab_type": "code",
        "id": "MTVwx_Z15lPz",
        "outputId": "6119c7ab-c81f-4081-de2e-7fe5c7fad92e"
      },
      "outputs": [
        {
          "data": {
            "text/plain": [
              "['Ship_name',\n",
              " 'Cruise_line',\n",
              " 'Age',\n",
              " 'Tonnage',\n",
              " 'passengers',\n",
              " 'length',\n",
              " 'cabins',\n",
              " 'passenger_density',\n",
              " 'crew',\n",
              " 'cruise_cat']"
            ]
          },
          "execution_count": 14,
          "metadata": {
            "tags": []
          },
          "output_type": "execute_result"
        }
      ],
      "source": [
        "indexed.columns\n"
      ]
    },
    {
      "cell_type": "code",
      "execution_count": null,
      "metadata": {
        "colab": {},
        "colab_type": "code",
        "id": "ARQc5iSc5rKI"
      },
      "outputs": [],
      "source": [
        "assembler = VectorAssembler(\n",
        "  inputCols=['Age',\n",
        "             'Tonnage',\n",
        "             'passengers',\n",
        "             'length',\n",
        "             'cabins',\n",
        "             'passenger_density',\n",
        "             'cruise_cat'],\n",
        "    outputCol=\"features\")"
      ]
    },
    {
      "cell_type": "code",
      "execution_count": null,
      "metadata": {
        "colab": {},
        "colab_type": "code",
        "id": "9n8T3Iq15v1v"
      },
      "outputs": [],
      "source": [
        "output = assembler.transform(indexed)"
      ]
    },
    {
      "cell_type": "code",
      "execution_count": null,
      "metadata": {
        "colab": {
          "base_uri": "https://localhost:8080/",
          "height": 459
        },
        "colab_type": "code",
        "id": "hnITAFwQ5yVi",
        "outputId": "18590947-f3fd-48b5-a90d-150cac2f421d"
      },
      "outputs": [
        {
          "name": "stdout",
          "output_type": "stream",
          "text": [
            "+--------------------+----+\n",
            "|            features|crew|\n",
            "+--------------------+----+\n",
            "|[6.0,30.276999999...|3.55|\n",
            "|[6.0,30.276999999...|3.55|\n",
            "|[26.0,47.262,14.8...| 6.7|\n",
            "|[11.0,110.0,29.74...|19.1|\n",
            "|[17.0,101.353,26....|10.0|\n",
            "|[22.0,70.367,20.5...| 9.2|\n",
            "|[15.0,70.367,20.5...| 9.2|\n",
            "|[23.0,70.367,20.5...| 9.2|\n",
            "|[19.0,70.367,20.5...| 9.2|\n",
            "|[6.0,110.23899999...|11.5|\n",
            "|[10.0,110.0,29.74...|11.6|\n",
            "|[28.0,46.052,14.5...| 6.6|\n",
            "|[18.0,70.367,20.5...| 9.2|\n",
            "|[17.0,70.367,20.5...| 9.2|\n",
            "|[11.0,86.0,21.24,...| 9.3|\n",
            "|[8.0,110.0,29.74,...|11.6|\n",
            "|[9.0,88.5,21.24,9...|10.3|\n",
            "|[15.0,70.367,20.5...| 9.2|\n",
            "|[12.0,88.5,21.24,...| 9.3|\n",
            "|[20.0,70.367,20.5...| 9.2|\n",
            "+--------------------+----+\n",
            "only showing top 20 rows\n",
            "\n"
          ]
        }
      ],
      "source": [
        "output.select(\"features\", \"crew\").show()\n"
      ]
    },
    {
      "cell_type": "code",
      "execution_count": null,
      "metadata": {
        "colab": {},
        "colab_type": "code",
        "id": "e0mx5mjT53vi"
      },
      "outputs": [],
      "source": [
        "final_data = output.select(\"features\", \"crew\")\n"
      ]
    },
    {
      "cell_type": "code",
      "execution_count": null,
      "metadata": {
        "colab": {},
        "colab_type": "code",
        "id": "jHlg7pgN56Ez"
      },
      "outputs": [],
      "source": [
        "train_data,test_data = final_data.randomSplit([0.7,0.3])\n"
      ]
    },
    {
      "cell_type": "code",
      "execution_count": null,
      "metadata": {
        "colab": {},
        "colab_type": "code",
        "id": "bzvI-BcP588n"
      },
      "outputs": [],
      "source": [
        "from pyspark.ml.regression import LinearRegression\n",
        "# Create a Linear Regression Model object\n",
        "lr = LinearRegression(labelCol='crew')"
      ]
    },
    {
      "cell_type": "code",
      "execution_count": null,
      "metadata": {
        "colab": {},
        "colab_type": "code",
        "id": "n0joVKlD5_o8"
      },
      "outputs": [],
      "source": [
        "# Fit the model to the data and call this model lrModel\n",
        "lrModel = lr.fit(train_data,{lr.regParam:0.0})\n"
      ]
    },
    {
      "cell_type": "code",
      "execution_count": null,
      "metadata": {
        "colab": {
          "base_uri": "https://localhost:8080/",
          "height": 54
        },
        "colab_type": "code",
        "id": "aKJrk3Q96C1D",
        "outputId": "17a8dc86-89a4-4467-f6f9-c0c55dd211a6"
      },
      "outputs": [
        {
          "name": "stdout",
          "output_type": "stream",
          "text": [
            "Coefficients: [-0.02188817290758551,0.007151887726591385,-0.12135592021820987,0.4124387641094161,0.8107659246636222,-0.006455706426858375,0.05216869100464662] Intercept: -0.6637837908564803\n"
          ]
        }
      ],
      "source": [
        "# Print the coefficients and intercept for linear regression\n",
        "print(\"Coefficients: {} Intercept: {}\".format(lrModel.coefficients,lrModel.intercept))"
      ]
    },
    {
      "cell_type": "code",
      "execution_count": null,
      "metadata": {
        "colab": {},
        "colab_type": "code",
        "id": "os0SZHDM6GEB"
      },
      "outputs": [],
      "source": [
        "test_results = lrModel.evaluate(test_data)\n"
      ]
    },
    {
      "cell_type": "code",
      "execution_count": null,
      "metadata": {
        "colab": {},
        "colab_type": "code",
        "id": "v2i-oAhFAfwA"
      },
      "outputs": [],
      "source": [
        "predictions1 = lrModel.transform(test_data)\n"
      ]
    },
    {
      "cell_type": "code",
      "execution_count": null,
      "metadata": {
        "colab": {
          "base_uri": "https://localhost:8080/",
          "height": 68
        },
        "colab_type": "code",
        "id": "GC3q0ndy6KH0",
        "outputId": "45e69dbd-de6e-4b0e-92af-a7d4b0b8ac81"
      },
      "outputs": [
        {
          "name": "stdout",
          "output_type": "stream",
          "text": [
            "RMSE: 0.9729525133777067\n",
            "MSE: 0.9466365932879967\n",
            "R2: 0.9305454461025161\n"
          ]
        }
      ],
      "source": [
        "print(\"RMSE: {}\".format(test_results.rootMeanSquaredError))\n",
        "print(\"MSE: {}\".format(test_results.meanSquaredError))\n",
        "print(\"R2: {}\".format(test_results.r2))"
      ]
    },
    {
      "cell_type": "code",
      "execution_count": null,
      "metadata": {
        "colab": {
          "base_uri": "https://localhost:8080/",
          "height": 459
        },
        "colab_type": "code",
        "id": "ZYgJKINgmDWH",
        "outputId": "c438df41-2d22-4992-e727-beda2f202398"
      },
      "outputs": [
        {
          "name": "stdout",
          "output_type": "stream",
          "text": [
            "+--------------------+\n",
            "|           residuals|\n",
            "+--------------------+\n",
            "|  0.2284401965591627|\n",
            "| -1.3276250611759082|\n",
            "| -0.9167478154805329|\n",
            "|  0.4824752385383775|\n",
            "| 0.15862978230690672|\n",
            "| -1.2983615492740501|\n",
            "| -0.5304474652220907|\n",
            "|  1.0839190527114244|\n",
            "|  1.0839190527114244|\n",
            "|-0.35708573727742454|\n",
            "| -0.3947050549040316|\n",
            "| -0.5637457873834713|\n",
            "|  -1.019655562832499|\n",
            "| 0.01348091012445174|\n",
            "|  0.8226449301023724|\n",
            "| -0.9758792170173276|\n",
            "|-0.00336247027000...|\n",
            "| -0.4794791843416517|\n",
            "|  0.8445331030099563|\n",
            "|  0.3912709449943286|\n",
            "+--------------------+\n",
            "only showing top 20 rows\n",
            "\n"
          ]
        }
      ],
      "source": [
        "test_results.residuals.show()"
      ]
    },
    {
      "cell_type": "code",
      "execution_count": null,
      "metadata": {
        "colab": {
          "base_uri": "https://localhost:8080/",
          "height": 459
        },
        "colab_type": "code",
        "id": "YVmzrMWCmIWX",
        "outputId": "e68a8073-1b8c-43a9-fd6b-9a37022c5c2e"
      },
      "outputs": [
        {
          "name": "stdout",
          "output_type": "stream",
          "text": [
            "+--------------------+-----+------------------+\n",
            "|            features| crew|        prediction|\n",
            "+--------------------+-----+------------------+\n",
            "|[4.0,220.0,54.0,1...| 21.0|20.771559803440837|\n",
            "|[5.0,86.0,21.04,9...|  8.0| 9.327625061175908|\n",
            "|[6.0,30.276999999...| 3.55| 4.466747815480533|\n",
            "|[6.0,93.0,23.94,9...|11.09|10.607524761461622|\n",
            "|[6.0,110.23899999...| 11.5|11.341370217693093|\n",
            "|[7.0,89.6,25.5,9....| 9.87| 11.16836154927405|\n",
            "|[8.0,110.0,29.74,...| 11.6| 12.13044746522209|\n",
            "|[9.0,113.0,26.74,...|12.38|11.296080947288576|\n",
            "|[9.0,113.0,26.74,...|12.38|11.296080947288576|\n",
            "|[10.0,81.76899999...| 8.42| 8.777085737277424|\n",
            "|[10.0,90.09,25.01...| 8.58| 8.974705054904032|\n",
            "|[10.0,105.0,27.2,...|10.68|11.243745787383471|\n",
            "|[10.0,138.0,31.14...|11.85|12.869655562832499|\n",
            "|[12.0,50.0,7.0,7....| 4.45| 4.436519089875548|\n",
            "|[12.0,91.0,20.32,...| 9.99| 9.167355069897628|\n",
            "|[12.0,138.0,31.14...|11.85|12.825879217017327|\n",
            "|[13.0,25.0,3.82,5...| 2.95|2.9533624702700045|\n",
            "|[13.0,61.0,13.8,7...|  6.0| 6.479479184341652|\n",
            "|[13.0,91.0,20.32,...| 9.99| 9.145466896990044|\n",
            "|[13.0,101.509,27....| 11.5|11.108729055005671|\n",
            "+--------------------+-----+------------------+\n",
            "only showing top 20 rows\n",
            "\n"
          ]
        }
      ],
      "source": [
        "predictions1.show()"
      ]
    },
    {
      "cell_type": "code",
      "execution_count": null,
      "metadata": {
        "colab": {},
        "colab_type": "code",
        "id": "cPePZ5df6OIz"
      },
      "outputs": [],
      "source": [
        "from pyspark.sql.functions import corr"
      ]
    },
    {
      "cell_type": "code",
      "execution_count": null,
      "metadata": {
        "colab": {
          "base_uri": "https://localhost:8080/",
          "height": 119
        },
        "colab_type": "code",
        "id": "oi_nhAQe6RCW",
        "outputId": "b785066c-08b9-4ce7-9505-f596a1ee67d0"
      },
      "outputs": [
        {
          "name": "stdout",
          "output_type": "stream",
          "text": [
            "+----------------------+\n",
            "|corr(crew, passengers)|\n",
            "+----------------------+\n",
            "|    0.9152341306065384|\n",
            "+----------------------+\n",
            "\n"
          ]
        }
      ],
      "source": [
        "df.select(corr('crew','passengers')).show()"
      ]
    },
    {
      "cell_type": "code",
      "execution_count": null,
      "metadata": {
        "colab": {
          "base_uri": "https://localhost:8080/",
          "height": 119
        },
        "colab_type": "code",
        "id": "2yQZtBsr6UU1",
        "outputId": "a0d3376f-781e-4075-9e90-a2e9a8ac7814"
      },
      "outputs": [
        {
          "name": "stdout",
          "output_type": "stream",
          "text": [
            "+------------------+\n",
            "|corr(crew, cabins)|\n",
            "+------------------+\n",
            "|0.9508226063578497|\n",
            "+------------------+\n",
            "\n"
          ]
        }
      ],
      "source": [
        "df.select(corr('crew','cabins')).show()"
      ]
    },
    {
      "cell_type": "markdown",
      "metadata": {
        "colab_type": "text",
        "id": "mHDUfoR6WVIk"
      },
      "source": [
        "**پروژه دوم**"
      ]
    },
    {
      "cell_type": "code",
      "execution_count": null,
      "metadata": {
        "colab": {},
        "colab_type": "code",
        "id": "1MTlHSaYWUXE"
      },
      "outputs": [],
      "source": [
        "data = spark.read.csv('customer_churn.csv',inferSchema=True,\n",
        "                     header=True)"
      ]
    },
    {
      "cell_type": "code",
      "execution_count": null,
      "metadata": {
        "colab": {
          "base_uri": "https://localhost:8080/",
          "height": 221
        },
        "colab_type": "code",
        "id": "tn6WSURpWeG3",
        "outputId": "af938e27-3b17-421f-e20c-ebd211eeb9bc"
      },
      "outputs": [
        {
          "name": "stdout",
          "output_type": "stream",
          "text": [
            "root\n",
            " |-- Names: string (nullable = true)\n",
            " |-- Age: double (nullable = true)\n",
            " |-- Total_Purchase: double (nullable = true)\n",
            " |-- Account_Manager: integer (nullable = true)\n",
            " |-- Years: double (nullable = true)\n",
            " |-- Num_Sites: double (nullable = true)\n",
            " |-- Onboard_date: string (nullable = true)\n",
            " |-- Location: string (nullable = true)\n",
            " |-- Company: string (nullable = true)\n",
            " |-- Churn: integer (nullable = true)\n",
            "\n"
          ]
        }
      ],
      "source": [
        "data.printSchema()\n"
      ]
    },
    {
      "cell_type": "code",
      "execution_count": null,
      "metadata": {
        "colab": {
          "base_uri": "https://localhost:8080/",
          "height": 207
        },
        "colab_type": "code",
        "id": "_rrZZYGmWguY",
        "outputId": "44094fd9-ff5a-4cf7-d21c-3327850bda2c"
      },
      "outputs": [
        {
          "name": "stdout",
          "output_type": "stream",
          "text": [
            "+-------+-------------+-----------------+-----------------+------------------+-----------------+------------------+-------------------+--------------------+--------------------+-------------------+\n",
            "|summary|        Names|              Age|   Total_Purchase|   Account_Manager|            Years|         Num_Sites|       Onboard_date|            Location|             Company|              Churn|\n",
            "+-------+-------------+-----------------+-----------------+------------------+-----------------+------------------+-------------------+--------------------+--------------------+-------------------+\n",
            "|  count|          900|              900|              900|               900|              900|               900|                900|                 900|                 900|                900|\n",
            "|   mean|         null|41.81666666666667|10062.82403333334|0.4811111111111111| 5.27315555555555| 8.587777777777777|               null|                null|                null|0.16666666666666666|\n",
            "| stddev|         null|6.127560416916251|2408.644531858096|0.4999208935073339|1.274449013194616|1.7648355920350969|               null|                null|                null| 0.3728852122772358|\n",
            "|    min|   Aaron King|             22.0|            100.0|                 0|              1.0|               3.0|2006-01-02 04:16:13|00103 Jeffrey Cre...|     Abbott-Thompson|                  0|\n",
            "|    max|Zachary Walsh|             65.0|         18026.01|                 1|             9.15|              14.0|2016-12-28 04:07:38|Unit 9800 Box 287...|Zuniga, Clark and...|                  1|\n",
            "+-------+-------------+-----------------+-----------------+------------------+-----------------+------------------+-------------------+--------------------+--------------------+-------------------+\n",
            "\n"
          ]
        }
      ],
      "source": [
        "data.describe().show()\n"
      ]
    },
    {
      "cell_type": "code",
      "execution_count": null,
      "metadata": {
        "colab": {
          "base_uri": "https://localhost:8080/",
          "height": 187
        },
        "colab_type": "code",
        "id": "CZpJWJ9AWjBo",
        "outputId": "35c15225-a433-4148-d531-fd1366760ee8"
      },
      "outputs": [
        {
          "data": {
            "text/plain": [
              "['Names',\n",
              " 'Age',\n",
              " 'Total_Purchase',\n",
              " 'Account_Manager',\n",
              " 'Years',\n",
              " 'Num_Sites',\n",
              " 'Onboard_date',\n",
              " 'Location',\n",
              " 'Company',\n",
              " 'Churn']"
            ]
          },
          "execution_count": 35,
          "metadata": {
            "tags": []
          },
          "output_type": "execute_result"
        }
      ],
      "source": [
        "data.columns\n"
      ]
    },
    {
      "cell_type": "code",
      "execution_count": null,
      "metadata": {
        "colab": {},
        "colab_type": "code",
        "id": "9hHQ-Hk_WlHi"
      },
      "outputs": [],
      "source": [
        "from pyspark.ml.feature import VectorAssembler\n"
      ]
    },
    {
      "cell_type": "code",
      "execution_count": null,
      "metadata": {
        "colab": {},
        "colab_type": "code",
        "id": "p_NdV28wWnGd"
      },
      "outputs": [],
      "source": [
        "assembler = VectorAssembler(inputCols=['Age',\n",
        " 'Total_Purchase',\n",
        " 'Account_Manager',\n",
        " 'Years',\n",
        " 'Num_Sites'],outputCol='features')"
      ]
    },
    {
      "cell_type": "code",
      "execution_count": null,
      "metadata": {
        "colab": {},
        "colab_type": "code",
        "id": "ez6BjHv1WpoP"
      },
      "outputs": [],
      "source": [
        "output = assembler.transform(data)\n"
      ]
    },
    {
      "cell_type": "code",
      "execution_count": null,
      "metadata": {
        "colab": {},
        "colab_type": "code",
        "id": "VTumJwC7WrmR"
      },
      "outputs": [],
      "source": [
        "final_data = output.select('features','churn')\n"
      ]
    },
    {
      "cell_type": "code",
      "execution_count": null,
      "metadata": {
        "colab": {},
        "colab_type": "code",
        "id": "ZUfcNX_iWtgn"
      },
      "outputs": [],
      "source": [
        "train_churn,test_churn = final_data.randomSplit([0.7,0.3])\n"
      ]
    },
    {
      "cell_type": "code",
      "execution_count": null,
      "metadata": {
        "colab": {},
        "colab_type": "code",
        "id": "-dEN-IRiWvgh"
      },
      "outputs": [],
      "source": [
        "from pyspark.ml.classification import LogisticRegression\n",
        "lr_churn = LogisticRegression(labelCol='churn')\n",
        "fitted_churn_model = lr_churn.fit(train_churn)\n",
        "training_sum = fitted_churn_model.summary\n"
      ]
    },
    {
      "cell_type": "code",
      "execution_count": null,
      "metadata": {
        "colab": {
          "base_uri": "https://localhost:8080/",
          "height": 187
        },
        "colab_type": "code",
        "id": "xZstPBnzW3s2",
        "outputId": "9a025cb2-d1bd-4565-9046-6253e617ea47"
      },
      "outputs": [
        {
          "name": "stdout",
          "output_type": "stream",
          "text": [
            "+-------+-------------------+-------------------+\n",
            "|summary|              churn|         prediction|\n",
            "+-------+-------------------+-------------------+\n",
            "|  count|                628|                628|\n",
            "|   mean|0.16560509554140126|0.12101910828025478|\n",
            "| stddev|0.37202208365041367|0.32640946430866896|\n",
            "|    min|                0.0|                0.0|\n",
            "|    max|                1.0|                1.0|\n",
            "+-------+-------------------+-------------------+\n",
            "\n"
          ]
        }
      ],
      "source": [
        "training_sum.predictions.describe().show()\n"
      ]
    },
    {
      "cell_type": "code",
      "execution_count": null,
      "metadata": {
        "colab": {},
        "colab_type": "code",
        "id": "unZX0x2WW5qS"
      },
      "outputs": [],
      "source": [
        "from pyspark.ml.evaluation import BinaryClassificationEvaluator\n",
        "pred_and_labels = fitted_churn_model.evaluate(test_churn)\n"
      ]
    },
    {
      "cell_type": "code",
      "execution_count": null,
      "metadata": {
        "colab": {
          "base_uri": "https://localhost:8080/",
          "height": 459
        },
        "colab_type": "code",
        "id": "uKFHhjdGW-3U",
        "outputId": "8c3f5b23-0523-4304-e032-efed8a2b5a93"
      },
      "outputs": [
        {
          "name": "stdout",
          "output_type": "stream",
          "text": [
            "+--------------------+-----+--------------------+--------------------+----------+\n",
            "|            features|churn|       rawPrediction|         probability|prediction|\n",
            "+--------------------+-----+--------------------+--------------------+----------+\n",
            "|[25.0,9672.03,0.0...|    0|[5.04607417703679...|[0.99360659384839...|       0.0|\n",
            "|[26.0,8787.39,1.0...|    1|[0.80767835565363...|[0.69161455543475...|       0.0|\n",
            "|[27.0,8628.8,1.0,...|    0|[5.64109177804747...|[0.99646355921935...|       0.0|\n",
            "|[28.0,8670.98,0.0...|    0|[8.14003842563161...|[0.99970845902881...|       0.0|\n",
            "|[28.0,11204.23,0....|    0|[2.10326836599626...|[0.89122044105125...|       0.0|\n",
            "|[29.0,8688.17,1.0...|    1|[2.84771585423618...|[0.94520049221807...|       0.0|\n",
            "|[29.0,9617.59,0.0...|    0|[4.74790582430184...|[0.99140468756038...|       0.0|\n",
            "|[29.0,10203.18,1....|    0|[3.88330649303143...|[0.97983244570071...|       0.0|\n",
            "|[29.0,12711.15,0....|    0|[5.60133749365893...|[0.99632066633584...|       0.0|\n",
            "|[30.0,7960.64,1.0...|    1|[3.27450727742832...|[0.96354383060823...|       0.0|\n",
            "|[30.0,8677.28,1.0...|    0|[4.29195994352951...|[0.98650647493657...|       0.0|\n",
            "|[31.0,5304.6,0.0,...|    0|[3.80044884467587...|[0.97812833339222...|       0.0|\n",
            "|[31.0,5387.75,0.0...|    0|[2.93709737903813...|[0.94965011965872...|       0.0|\n",
            "|[31.0,7073.61,0.0...|    0|[3.43241833714050...|[0.96870247004840...|       0.0|\n",
            "|[31.0,9574.89,0.0...|    0|[3.56970093192041...|[0.97260722228054...|       0.0|\n",
            "|[31.0,10058.87,1....|    0|[4.54918537812503...|[0.98953486121703...|       0.0|\n",
            "|[31.0,11743.24,0....|    0|[6.97044803579454...|[0.99906164932698...|       0.0|\n",
            "|[32.0,12142.99,0....|    0|[5.82089009969401...|[0.99704380017300...|       0.0|\n",
            "|[32.0,13630.93,0....|    0|[2.44496005885650...|[0.92019210758707...|       0.0|\n",
            "|[33.0,4711.89,0.0...|    0|[6.28440834850714...|[0.99813831217778...|       0.0|\n",
            "+--------------------+-----+--------------------+--------------------+----------+\n",
            "only showing top 20 rows\n",
            "\n"
          ]
        }
      ],
      "source": [
        "pred_and_labels.predictions.show()\n"
      ]
    },
    {
      "cell_type": "code",
      "execution_count": null,
      "metadata": {
        "colab": {},
        "colab_type": "code",
        "id": "d3MCS8vUXA4G"
      },
      "outputs": [],
      "source": [
        "churn_eval = BinaryClassificationEvaluator(rawPredictionCol='prediction',\n",
        "                                           labelCol='churn')"
      ]
    },
    {
      "cell_type": "code",
      "execution_count": null,
      "metadata": {
        "colab": {
          "base_uri": "https://localhost:8080/",
          "height": 34
        },
        "colab_type": "code",
        "id": "1QE8OX9_XDvX",
        "outputId": "4e05b9f2-97a3-49ce-a739-cb438e47f682"
      },
      "outputs": [
        {
          "data": {
            "text/plain": [
              "0.7560600230858022"
            ]
          },
          "execution_count": 47,
          "metadata": {
            "tags": []
          },
          "output_type": "execute_result"
        }
      ],
      "source": [
        "auc = churn_eval.evaluate(pred_and_labels.predictions)\n",
        "auc"
      ]
    },
    {
      "cell_type": "code",
      "execution_count": null,
      "metadata": {
        "colab": {},
        "colab_type": "code",
        "id": "TyUYQ4hdXGMI"
      },
      "outputs": [],
      "source": [
        "final_lr_model = lr_churn.fit(final_data)\n"
      ]
    },
    {
      "cell_type": "code",
      "execution_count": null,
      "metadata": {
        "colab": {},
        "colab_type": "code",
        "id": "1QTfFLEbXKxi"
      },
      "outputs": [],
      "source": [
        "new_customers = spark.read.csv('new_customers.csv',inferSchema=True,\n",
        "                              header=True)"
      ]
    },
    {
      "cell_type": "code",
      "execution_count": null,
      "metadata": {
        "colab": {
          "base_uri": "https://localhost:8080/",
          "height": 204
        },
        "colab_type": "code",
        "id": "do9-c8keXNBg",
        "outputId": "7f10a96c-fd85-4ac4-c3e4-bb95fb8ffed2"
      },
      "outputs": [
        {
          "name": "stdout",
          "output_type": "stream",
          "text": [
            "root\n",
            " |-- Names: string (nullable = true)\n",
            " |-- Age: double (nullable = true)\n",
            " |-- Total_Purchase: double (nullable = true)\n",
            " |-- Account_Manager: integer (nullable = true)\n",
            " |-- Years: double (nullable = true)\n",
            " |-- Num_Sites: double (nullable = true)\n",
            " |-- Onboard_date: string (nullable = true)\n",
            " |-- Location: string (nullable = true)\n",
            " |-- Company: string (nullable = true)\n",
            "\n"
          ]
        }
      ],
      "source": [
        "new_customers.printSchema()\n"
      ]
    },
    {
      "cell_type": "code",
      "execution_count": null,
      "metadata": {
        "colab": {},
        "colab_type": "code",
        "id": "0OuXdbBfXPK9"
      },
      "outputs": [],
      "source": [
        "test_new_customers = assembler.transform(new_customers)\n"
      ]
    },
    {
      "cell_type": "code",
      "execution_count": null,
      "metadata": {
        "colab": {
          "base_uri": "https://localhost:8080/",
          "height": 221
        },
        "colab_type": "code",
        "id": "4m1cv4u2XRoO",
        "outputId": "92231022-48e0-434d-ae75-14f8fa7a4456"
      },
      "outputs": [
        {
          "name": "stdout",
          "output_type": "stream",
          "text": [
            "root\n",
            " |-- Names: string (nullable = true)\n",
            " |-- Age: double (nullable = true)\n",
            " |-- Total_Purchase: double (nullable = true)\n",
            " |-- Account_Manager: integer (nullable = true)\n",
            " |-- Years: double (nullable = true)\n",
            " |-- Num_Sites: double (nullable = true)\n",
            " |-- Onboard_date: string (nullable = true)\n",
            " |-- Location: string (nullable = true)\n",
            " |-- Company: string (nullable = true)\n",
            " |-- features: vector (nullable = true)\n",
            "\n"
          ]
        }
      ],
      "source": [
        "test_new_customers.printSchema()\n"
      ]
    },
    {
      "cell_type": "code",
      "execution_count": null,
      "metadata": {
        "colab": {},
        "colab_type": "code",
        "id": "Jm7oZ__nXVF4"
      },
      "outputs": [],
      "source": [
        "final_results = final_lr_model.transform(test_new_customers)\n"
      ]
    },
    {
      "cell_type": "code",
      "execution_count": null,
      "metadata": {
        "colab": {
          "base_uri": "https://localhost:8080/",
          "height": 204
        },
        "colab_type": "code",
        "id": "qv5kgzU3XYUb",
        "outputId": "038791af-27b9-461f-fc07-afd1070a8f14"
      },
      "outputs": [
        {
          "name": "stdout",
          "output_type": "stream",
          "text": [
            "+----------------+----------+\n",
            "|         Company|prediction|\n",
            "+----------------+----------+\n",
            "|        King Ltd|       0.0|\n",
            "|   Cannon-Benson|       1.0|\n",
            "|Barron-Robertson|       1.0|\n",
            "|   Sexton-Golden|       1.0|\n",
            "|        Wood LLC|       0.0|\n",
            "|   Parks-Robbins|       1.0|\n",
            "+----------------+----------+\n",
            "\n"
          ]
        }
      ],
      "source": [
        "final_results.select('Company','prediction').show()\n"
      ]
    }
  ],
  "metadata": {
    "colab": {
      "collapsed_sections": [],
      "name": "cloud project 2",
      "provenance": [],
      "toc_visible": true
    },
    "kernelspec": {
      "display_name": "Python 3",
      "name": "python3"
    }
  },
  "nbformat": 4,
  "nbformat_minor": 0
}
